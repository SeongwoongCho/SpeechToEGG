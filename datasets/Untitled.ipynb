{
 "cells": [
  {
   "cell_type": "code",
   "execution_count": 1,
   "metadata": {},
   "outputs": [
    {
     "ename": "ModuleNotFoundError",
     "evalue": "No module named 'utils'",
     "output_type": "error",
     "traceback": [
      "\u001b[0;31m\u001b[0m",
      "\u001b[0;31mModuleNotFoundError\u001b[0mTraceback (most recent call last)",
      "\u001b[0;32m<ipython-input-1-541718ec8fbd>\u001b[0m in \u001b[0;36m<module>\u001b[0;34m\u001b[0m\n\u001b[1;32m      3\u001b[0m \u001b[0;32mimport\u001b[0m \u001b[0mlibrosa\u001b[0m\u001b[0;34m\u001b[0m\u001b[0;34m\u001b[0m\u001b[0m\n\u001b[1;32m      4\u001b[0m \u001b[0;32mfrom\u001b[0m \u001b[0mscipy\u001b[0m\u001b[0;34m.\u001b[0m\u001b[0msignal\u001b[0m \u001b[0;32mimport\u001b[0m \u001b[0mbutter\u001b[0m\u001b[0;34m,\u001b[0m\u001b[0mfiltfilt\u001b[0m\u001b[0;34m,\u001b[0m\u001b[0mfind_peaks\u001b[0m\u001b[0;34m,\u001b[0m\u001b[0mfind_peaks_cwt\u001b[0m\u001b[0;34m,\u001b[0m\u001b[0mmedfilt\u001b[0m\u001b[0;34m,\u001b[0m\u001b[0msavgol_filter\u001b[0m\u001b[0;34m\u001b[0m\u001b[0;34m\u001b[0m\u001b[0m\n\u001b[0;32m----> 5\u001b[0;31m \u001b[0;32mfrom\u001b[0m \u001b[0mutils\u001b[0m \u001b[0;32mimport\u001b[0m \u001b[0mbutter_lowpass_filter\u001b[0m\u001b[0;34m,\u001b[0m \u001b[0mbutter_highpass_filter\u001b[0m\u001b[0;34m,\u001b[0m \u001b[0msmooth\u001b[0m\u001b[0;34m,\u001b[0m \u001b[0mpositions2onehot\u001b[0m\u001b[0;34m,\u001b[0m \u001b[0mnormalize\u001b[0m\u001b[0;34m\u001b[0m\u001b[0;34m\u001b[0m\u001b[0m\n\u001b[0m\u001b[1;32m      6\u001b[0m \u001b[0;32mimport\u001b[0m \u001b[0mtorch\u001b[0m\u001b[0;34m\u001b[0m\u001b[0;34m\u001b[0m\u001b[0m\n\u001b[1;32m      7\u001b[0m \u001b[0;32mimport\u001b[0m \u001b[0mtorch\u001b[0m\u001b[0;34m.\u001b[0m\u001b[0mnn\u001b[0m \u001b[0;32mas\u001b[0m \u001b[0mnn\u001b[0m\u001b[0;34m\u001b[0m\u001b[0;34m\u001b[0m\u001b[0m\n",
      "\u001b[0;31mModuleNotFoundError\u001b[0m: No module named 'utils'"
     ]
    }
   ],
   "source": [
    "import numpy as np\n",
    "import matplotlib.pyplot as plt\n",
    "import librosa\n",
    "from scipy.signal import butter,filtfilt,find_peaks,find_peaks_cwt,medfilt,savgol_filter\n",
    "from utils import butter_lowpass_filter, butter_highpass_filter, smooth, positions2onehot, normalize\n",
    "import torch\n",
    "import torch.nn as nn\n",
    "import pandas as pd\n",
    "from test_metric_utils import *\n",
    "from model_unet import Unet\n",
    "from model_AAE import FCAE\n",
    "from tqdm import tqdm_notebook\n",
    "import os\n",
    "import time\n",
    "%matplotlib inline"
   ]
  },
  {
   "cell_type": "code",
   "execution_count": null,
   "metadata": {},
   "outputs": [],
   "source": [
    "def inference(model,Speech,n_frame = 192,window_step = 32):\n",
    "    assert n_frame%window_step ==0\n",
    "    \n",
    "    model.eval()\n",
    "    Speech = np.expand_dims(Speech,axis=-1)\n",
    "    EGG_pred = np.zeros_like(Speech)\n",
    "    ratio = np.zeros_like(Speech)\n",
    "    frame = 0\n",
    "    \n",
    "    while frame*window_step + n_frame <= len(Speech):\n",
    "        tmp = Speech[frame*window_step:frame*window_step+n_frame]\n",
    "        tmp = torch.Tensor([normalize(tmp)]).cuda() ## preprocessing\n",
    "        \n",
    "        result = model(tmp).cpu().detach().numpy()[0]\n",
    "        EGG_pred[frame*window_step:frame*window_step+n_frame] += result ## postprocessing\n",
    "        ratio[frame*window_step:frame*window_step+n_frame] +=1\n",
    "        frame +=1\n",
    "    \n",
    "    for i in range(len(EGG_pred)):\n",
    "        if ratio[i]!=0:\n",
    "            EGG_pred[i] = EGG_pred[i]/ratio[i]\n",
    "    return EGG_pred[:n_frame + frame*window_step]"
   ]
  },
  {
   "cell_type": "code",
   "execution_count": null,
   "metadata": {},
   "outputs": [],
   "source": [
    "unet_cos = Unet(4,10)\n",
    "unet_cos = nn.DataParallel(unet_cos)\n",
    "unet_cos.load_state_dict(torch.load(\"./models/Unet/best-cosloss.pth\"))\n",
    "unet_cos.cuda()"
   ]
  },
  {
   "cell_type": "code",
   "execution_count": null,
   "metadata": {},
   "outputs": [],
   "source": [
    "def get_points(EGG):\n",
    "#     EGG = normalize(EGG)\n",
    "    peak_range = (7,15)\n",
    "    DEGG = np.gradient(EGG,edge_order = 2)\n",
    "    DEGG = medfilt(DEGG, 3)\n",
    "    DEGG_low,EGG_low = DEGG.copy(),EGG.copy()\n",
    "    \n",
    "    DEGG_low[DEGG_low>0] =0\n",
    "    EGG_low[EGG_low>0] =0\n",
    "    \n",
    "    DEGG_low = find_peaks_cwt(-DEGG_low,np.arange(*peak_range))\n",
    "    EGG_low = find_peaks_cwt(-EGG_low,np.arange(*peak_range))\n",
    "\n",
    "    DEGG_high = []\n",
    "    for i in range(len(DEGG_low)-1):\n",
    "        DEGG_high.append(DEGG_low[i] + np.argmax(DEGG[DEGG_low[i]:DEGG_low[i+1]]))\n",
    "\n",
    "    EGG_high = []\n",
    "    for i in range(len(EGG_low)-1):\n",
    "        EGG_high.append(EGG_low[i] + np.argmax(EGG[EGG_low[i]:EGG_low[i+1]]))\n",
    "    \n",
    "    DEGG_high, EGG_high = np.array(DEGG_high),np.array(EGG_high)\n",
    "    \n",
    "    return DEGG_high/16000,DEGG_low/16000,EGG_high/16000,EGG_low/16000"
   ]
  },
  {
   "cell_type": "code",
   "execution_count": null,
   "metadata": {},
   "outputs": [],
   "source": [
    "window_step = 64\n",
    "directory = './datasets/'\n",
    "file = 'asdf.wav'\n",
    "\n",
    "[Speech,EGG_true],sr = librosa.load(directory + file,sr=16000,mono=False)\n",
    "Speech = butter_lowpass_filter(Speech,2500,16000)\n",
    "itvs = librosa.effects.split(Speech,frame_length = int(192*0.75), hop_length = int(192*0.25),top_db = 10)\n",
    "\n",
    "S = []\n",
    "E = []\n",
    "for st,ed in itvs:\n",
    "    S += list(Speech[st:ed])\n",
    "    E += list(EGG_true[st:ed])\n",
    "\n",
    "Speech = np.array(S)\n",
    "EGG_true = np.array(E)\n",
    "\n",
    "EGG_pred = inference(unet_cos,Speech,n_frame = 192,window_step = window_step)\n",
    "EGG_pred = np.squeeze(EGG_pred,axis=-1)\n",
    "EGG_pred = smooth(EGG_pred, 49)\n",
    "\n",
    "l = min(len(EGG_pred),len(EGG_true))\n",
    "EGG_true =EGG_true[:l]\n",
    "EGG_pred =EGG_pred[:l]\n"
   ]
  }
 ],
 "metadata": {
  "kernelspec": {
   "display_name": "Python 3",
   "language": "python",
   "name": "python3"
  },
  "language_info": {
   "codemirror_mode": {
    "name": "ipython",
    "version": 3
   },
   "file_extension": ".py",
   "mimetype": "text/x-python",
   "name": "python",
   "nbconvert_exporter": "python",
   "pygments_lexer": "ipython3",
   "version": "3.7.1"
  }
 },
 "nbformat": 4,
 "nbformat_minor": 2
}
