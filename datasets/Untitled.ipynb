{
 "cells": [
  {
   "cell_type": "code",
   "execution_count": 4,
   "metadata": {},
   "outputs": [
    {
     "data": {
      "application/vnd.jupyter.widget-view+json": {
       "model_id": "9073666ad8074448ae83c754363f5d16",
       "version_major": 2,
       "version_minor": 0
      },
      "text/plain": [
       "HBox(children=(IntProgress(value=0, max=300), HTML(value='')))"
      ]
     },
     "metadata": {},
     "output_type": "display_data"
    },
    {
     "name": "stdout",
     "output_type": "stream",
     "text": [
      "\n"
     ]
    }
   ],
   "source": [
    "import librosa\n",
    "import os\n",
    "from tqdm import tqdm_notebook\n",
    "import numpy as np\n",
    "import soundfile as sf\n",
    "for file in tqdm_notebook(os.listdir('./TrainData/musical_noise/')):\n",
    "    x,sr = librosa.load(os.path.join('./TrainData/musical_noise/',file),sr=16000)\n",
    "    tmp = np.array([])\n",
    "    itvs = librosa.effects.split(x,frame_length = 128, hop_length = 64,top_db = 20)\n",
    "    for st,ed in itvs:\n",
    "        tmp = np.concatenate((tmp,x[st:ed]))\n",
    "    sf.write('./TrainData/musical_noise/'+file,tmp,16000, format='WAV', endian='LITTLE', subtype='PCM_16')"
   ]
  },
  {
   "cell_type": "code",
   "execution_count": null,
   "metadata": {},
   "outputs": [],
   "source": []
  }
 ],
 "metadata": {
  "kernelspec": {
   "display_name": "Python 3",
   "language": "python",
   "name": "python3"
  },
  "language_info": {
   "codemirror_mode": {
    "name": "ipython",
    "version": 3
   },
   "file_extension": ".py",
   "mimetype": "text/x-python",
   "name": "python",
   "nbconvert_exporter": "python",
   "pygments_lexer": "ipython3",
   "version": "3.7.1"
  }
 },
 "nbformat": 4,
 "nbformat_minor": 2
}
