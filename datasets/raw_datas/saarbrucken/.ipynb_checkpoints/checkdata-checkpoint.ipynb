{
 "cells": [
  {
   "cell_type": "code",
   "execution_count": 3,
   "metadata": {},
   "outputs": [],
   "source": [
    "import librosa\n",
    "import numpy as np\n",
    "import os\n",
    "import matplotlib.pyplot as plt"
   ]
  },
  {
   "cell_type": "code",
   "execution_count": 5,
   "metadata": {},
   "outputs": [
    {
     "name": "stdout",
     "output_type": "stream",
     "text": [
      "8062\n",
      "1862-iau.wav\n",
      "60-iau.wav\n"
     ]
    }
   ],
   "source": [
    "files = os.listdir('./export/')\n",
    "print(len(files))\n",
    "for file in files:\n",
    "    if(os.stat('./export/'+file).st_size == 0):\n",
    "        os.remove('./export/'+file)\n",
    "    \n",
    "    if 'egg' in file:\n",
    "        speech = './export/' + file[:-7]+'.wav'\n",
    "        egg= './export/' + file\n",
    "    else:\n",
    "        speech = './export/' + file\n",
    "        egg = './export/' + file[:-4]+'-egg.wav'\n",
    "    if not os.path.exists(speech) or not os.path.exists(egg):\n",
    "        try:\n",
    "            os.remove(speech)\n",
    "        except:\n",
    "            continue\n",
    "        try:\n",
    "            os.remove(egg)\n",
    "        except:\n",
    "            continue\n",
    "    if os.stat(egg).st_size != os.stat(speech).st_size:\n",
    "        print(file)\n",
    "\n",
    "# x ,sr = librosa.load('./export/1215-iau.wav',sr=50000)\n",
    "# y, sr = librosa.load('./export/1215-iau-egg.wav',sr=50000)"
   ]
  },
  {
   "cell_type": "code",
   "execution_count": null,
   "metadata": {},
   "outputs": [],
   "source": []
  }
 ],
 "metadata": {
  "kernelspec": {
   "display_name": "Python 3",
   "language": "python",
   "name": "python3"
  },
  "language_info": {
   "codemirror_mode": {
    "name": "ipython",
    "version": 3
   },
   "file_extension": ".py",
   "mimetype": "text/x-python",
   "name": "python",
   "nbconvert_exporter": "python",
   "pygments_lexer": "ipython3",
   "version": "3.7.1"
  }
 },
 "nbformat": 4,
 "nbformat_minor": 2
}
