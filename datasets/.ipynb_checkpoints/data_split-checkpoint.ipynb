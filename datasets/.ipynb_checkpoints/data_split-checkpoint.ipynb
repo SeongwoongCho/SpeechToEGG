{
 "cells": [
  {
   "cell_type": "code",
   "execution_count": 1,
   "metadata": {},
   "outputs": [],
   "source": [
    "import os\n",
    "import shutil\n",
    "import librosa\n",
    "import numpy as np\n",
    "from scipy.io import wavfile\n",
    "import soundfile as sf\n",
    "import pandas as pd\n",
    "from tqdm import tqdm_notebook\n",
    "import numpy as np\n",
    "from multiprocessing import Pool"
   ]
  },
  {
   "cell_type": "markdown",
   "metadata": {},
   "source": [
    "# Processing CMU"
   ]
  },
  {
   "cell_type": "code",
   "execution_count": null,
   "metadata": {},
   "outputs": [],
   "source": [
    "os.makedirs('./TestData',exist_ok=True)\n",
    "os.makedirs('./TrainData',exist_ok = True)"
   ]
  },
  {
   "cell_type": "code",
   "execution_count": null,
   "metadata": {},
   "outputs": [],
   "source": [
    "os.makedirs('./TestData/CMU',exist_ok=True)\n",
    "os.makedirs('./TrainData/CMU',exist_ok = True)\n",
    "for drt in ['./cmu_us_bdl_arctic/orig/','./cmu_us_jmk_arctic/orig/','./cmu_us_slt_arctic/orig/']:\n",
    "    files = os.listdir(drt)\n",
    "    for file in files:\n",
    "        if file[7]=='a':\n",
    "            shutil.copy2(drt+file, './TrainData/CMU/'+drt[9:13]+file)\n",
    "        if file[7]=='b':\n",
    "            shutil.copy2(drt + file,'./TestData/CMU/'+drt[9:13]+file)"
   ]
  },
  {
   "cell_type": "markdown",
   "metadata": {},
   "source": [
    "# Processing saarburkcen"
   ]
  },
  {
   "cell_type": "code",
   "execution_count": 33,
   "metadata": {},
   "outputs": [],
   "source": [
    "def merge(speech,egg):\n",
    "    assert len(speech) == len(egg)\n",
    "    merged = np.zeros((2,len(speech)))\n",
    "    merged[0,:] = speech\n",
    "    merged[1,:] = egg\n",
    "    return merged\n",
    "    "
   ]
  },
  {
   "cell_type": "code",
   "execution_count": 10,
   "metadata": {},
   "outputs": [
    {
     "name": "stdout",
     "output_type": "stream",
     "text": [
      "\n"
     ]
    }
   ],
   "source": [
    "def save(num):\n",
    "    for name in ['phrase','a_h','a_l','a_lhl','a_n','i_h','i_l','i_lhl','i_n','u_h','u_l','u_lhl','u_n']:\n",
    "        if os.path.exists('./saarbrucken/export/%d-%s.wav'%(num,name)) and os.path.exists('./saarbrucken/export/%d-%s-egg.wav'%(num,name)):\n",
    "            if not os.path.exists('./saarbrucken/merge/%d-%s.wav'%(num,name)):\n",
    "                n_iau,sr = librosa.load('./saarbrucken/export/%d-%s.wav'%(num,name),sr=None)\n",
    "                n_iau_egg,sr = librosa.load('./saarbrucken/export/%d-%s-egg.wav'%(num,name),sr=None)\n",
    "\n",
    "                merged = merge(n_iau,n_iau_egg)\n",
    "                merged = librosa.resample(merged,sr,16000)\n",
    "                sf.write('./saarbrucken/merge/%d-%s.wav'%(num,name), merged.T,16000, format='WAV', endian='LITTLE', subtype='PCM_16')\n",
    "            "
   ]
  },
  {
   "cell_type": "code",
   "execution_count": 24,
   "metadata": {
    "scrolled": true
   },
   "outputs": [],
   "source": [
    "df = pd.read_csv('./saarbrucken_metadata.csv',engine='python')\n",
    "l = os.listdir('./saarbrucken/export/')\n",
    "n=[]\n",
    "for file in l:\n",
    "    num = int(file.split('-')[0])\n",
    "    if not num in n:\n",
    "        n.append(num)"
   ]
  },
  {
   "cell_type": "code",
   "execution_count": 25,
   "metadata": {},
   "outputs": [],
   "source": [
    "def f(v):\n",
    "    if v in n:\n",
    "        return True\n",
    "    return False\n",
    "df = df[df['ID'].apply(f)]"
   ]
  },
  {
   "cell_type": "code",
   "execution_count": 11,
   "metadata": {},
   "outputs": [
    {
     "data": {
      "application/vnd.jupyter.widget-view+json": {
       "model_id": "aba487899fa243c09d6982b46207552d",
       "version_major": 2,
       "version_minor": 0
      },
      "text/plain": [
       "HBox(children=(IntProgress(value=0, max=2100), HTML(value='')))"
      ]
     },
     "metadata": {},
     "output_type": "display_data"
    },
    {
     "name": "stdout",
     "output_type": "stream",
     "text": [
      "\n"
     ]
    }
   ],
   "source": [
    "pool = Pool(64)\n",
    "pool.map(save,n)\n",
    "# for n in tqdm_notebook(range(num)):\n",
    "#     save(n)"
   ]
  },
  {
   "cell_type": "code",
   "execution_count": 26,
   "metadata": {},
   "outputs": [
    {
     "name": "stdout",
     "output_type": "stream",
     "text": [
      "1153 889\n",
      "426 261\n",
      "727 628\n"
     ]
    }
   ],
   "source": [
    "df_W = df[df.G == 'w']\n",
    "df_M = df[df.G == 'm']\n",
    "\n",
    "print(len(df_W),len(df_M))\n",
    "print(len(df_W[df_W['T']=='n']),len(df_M[df_M['T'] =='n']))\n",
    "print(len(df_W[df_W['T'] =='p']),len(df_M[df_M['T'] =='p']))"
   ]
  },
  {
   "cell_type": "code",
   "execution_count": 31,
   "metadata": {},
   "outputs": [
    {
     "data": {
      "application/vnd.jupyter.widget-view+json": {
       "model_id": "5850fb5566a947f5aabc34446c7f0ea4",
       "version_major": 2,
       "version_minor": 0
      },
      "text/plain": [
       "HBox(children=(IntProgress(value=0, max=2042), HTML(value='')))"
      ]
     },
     "metadata": {},
     "output_type": "display_data"
    },
    {
     "name": "stdout",
     "output_type": "stream",
     "text": [
      "\n"
     ]
    }
   ],
   "source": [
    "normal = df[df['T'] == 'n']\n",
    "Pathology = df[df['T'] == 'p']\n",
    "# Pathology_w = Pathology[Pathology['G'] == 'w']\n",
    "# Pathology_m = Pathology[Pathology['G'] == 'm']\n",
    "l = os.listdir('./saarbrucken/merge')\n",
    "os.makedirs('./TrainData/saarbrucken/',exist_ok=True)\n",
    "os.makedirs('./TestData/saarbrucken/',exist_ok=True)\n",
    "cnt1,cnt2 = 0,0\n",
    "for num in tqdm_notebook(n) :\n",
    "    if num in normal.ID.values:\n",
    "        for name in ['phrase','a_h','a_l','a_lhl','a_n','i_h','i_l','i_lhl','i_n','u_h','u_l','u_lhl','u_n']:\n",
    "            try:\n",
    "                shutil.copy2('./saarbrucken/merge/%d-%s.wav'%(num,name),'./TrainData/saarbrucken/%d-%s.wav'%(num,name))\n",
    "            except:\n",
    "                pass\n",
    "    elif num in Pathology.ID.values:\n",
    "        if np.random.uniform()<0.5:\n",
    "            cnt1 +=1\n",
    "        for name in ['phrase','a_h','a_l','a_lhl','a_n','i_h','i_l','i_lhl','i_n','u_h','u_l','u_lhl','u_n']:\n",
    "            try:\n",
    "                shutil.copy2('./saarbrucken/merge/%d-%s.wav'%(num,name),'./TrainData/saarbrucken/%d-%s.wav'%(num,name))\n",
    "            except:\n",
    "                pass\n",
    "        else:\n",
    "            cnt2 +=1\n",
    "        for name in ['phrase','a_h','a_l','a_lhl','a_n','i_h','i_l','i_lhl','i_n','u_h','u_l','u_lhl','u_n']:\n",
    "            try:\n",
    "                shutil.copy2('./saarbrucken/merge/%d-%s.wav'%(num,name),'./TestData/saarbrucken/%d-%s.wav'%(num,name))\n",
    "            except:\n",
    "                pass\n",
    "\n",
    "print(\"Pathology %d Train, %d Test\"%(cnt1,cnt2))"
   ]
  },
  {
   "cell_type": "code",
   "execution_count": 32,
   "metadata": {},
   "outputs": [
    {
     "data": {
      "text/plain": [
       "(660, 695)"
      ]
     },
     "execution_count": 32,
     "metadata": {},
     "output_type": "execute_result"
    }
   ],
   "source": [
    "cnt1,cnt2"
   ]
  },
  {
   "cell_type": "code",
   "execution_count": null,
   "metadata": {},
   "outputs": [],
   "source": []
  }
 ],
 "metadata": {
  "kernelspec": {
   "display_name": "Python 3",
   "language": "python",
   "name": "python3"
  },
  "language_info": {
   "codemirror_mode": {
    "name": "ipython",
    "version": 3
   },
   "file_extension": ".py",
   "mimetype": "text/x-python",
   "name": "python",
   "nbconvert_exporter": "python",
   "pygments_lexer": "ipython3",
   "version": "3.7.1"
  }
 },
 "nbformat": 4,
 "nbformat_minor": 2
}
