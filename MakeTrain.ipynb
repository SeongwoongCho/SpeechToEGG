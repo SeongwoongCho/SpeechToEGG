{
 "cells": [
  {
   "cell_type": "code",
   "execution_count": 1,
   "metadata": {},
   "outputs": [],
   "source": [
    "import os\n",
    "import numpy as np\n",
    "from tqdm import tqdm_notebook\n",
    "from utils import *\n",
    "import librosa\n",
    "import random\n",
    "import multiprocessing as mp\n",
    "import torch.utils.data\n",
    "import pandas as pd\n",
    "from sklearn.model_selection import train_test_split\n",
    "\n",
    "seed_everything(42)\n",
    "\n",
    "def process(t): ## args : drt, file,window,step\n",
    "    drt,file,window,step,n_frame,top_db = t\n",
    "    X,y = [],[]\n",
    "\n",
    "    x,sr = librosa.load(drt+file,sr=16000,mono=False)\n",
    "    itvs = librosa.effects.split(x[0],frame_length = n_frame+1, hop_length = step,top_db = top_db)\n",
    "    \n",
    "    for st_idx,end_idx in itvs:\n",
    "        speech,egg = x[0][st_idx:end_idx],x[1][st_idx:end_idx]\n",
    "        i=0\n",
    "        while(i*step+window < len(speech)):\n",
    "            tmp_speech = speech[i*step:i*step+window]\n",
    "            tmp_egg = egg[i*step:i*step+window]\n",
    "            if check_data(tmp_speech,tmp_egg,0.2,n_frame):\n",
    "                X.append(tmp_speech)\n",
    "                y.append(tmp_egg)\n",
    "            i+=1\n",
    "    return (X,y)\n",
    "   \n",
    "def load_datas(n_frame,window,step,top_db,is_test=False):\n",
    "    X,y = [],[]\n",
    "    pool = mp.Pool(mp.cpu_count())\n",
    "    \n",
    "    print(\"load Train Data\")\n",
    "    args = []\n",
    "    \n",
    "    for drt in ['./datasets/TrainData/Alexis/','./datasets/TrainData/vietnam/',\n",
    "                './datasets/TrainData/CMU/','./datasets/TrainData/saarbrucken/']:\n",
    "        for file in os.listdir(drt):\n",
    "            if 'wav' in file:\n",
    "                args.append((drt,file,window,step,n_frame,top_db))\n",
    "\n",
    "    if is_test:\n",
    "        args = args[:50]\n",
    "    \n",
    "    tmp = list(tqdm_notebook(pool.imap(process,args),total = len(args)))\n",
    "    for _x,_y in tmp:\n",
    "        if len(_x) >0 and len(_y) > 0:\n",
    "            X +=_x\n",
    "            y +=_y\n",
    "    pool.close()\n",
    "    pool.join()\n",
    "    \n",
    "    release_list(tmp)\n",
    "    X = np.array(X)\n",
    "    y = np.array(y)\n",
    "    train_X,val_X, train_y, val_y = train_test_split(X, y, test_size=0.3, random_state=42)\n",
    "    return train_X, train_y, val_X, val_y"
   ]
  },
  {
   "cell_type": "code",
   "execution_count": 2,
   "metadata": {},
   "outputs": [
    {
     "name": "stdout",
     "output_type": "stream",
     "text": [
      "load Train Data\n"
     ]
    },
    {
     "data": {
      "application/vnd.jupyter.widget-view+json": {
       "model_id": "a27afeed4403414ba0c439686c9dd137",
       "version_major": 2,
       "version_minor": 0
      },
      "text/plain": [
       "HBox(children=(IntProgress(value=0, max=19559), HTML(value='')))"
      ]
     },
     "metadata": {},
     "output_type": "display_data"
    },
    {
     "name": "stdout",
     "output_type": "stream",
     "text": [
      "\n"
     ]
    }
   ],
   "source": [
    "train_X, train_y, val_X, val_y = load_datas(n_frame = 256,\n",
    "                                            window = int(256*(1.25)),\n",
    "                                            step = int(256//4),\n",
    "                                            top_db = 20,\n",
    "                                            is_test = False)"
   ]
  },
  {
   "cell_type": "code",
   "execution_count": 3,
   "metadata": {
    "scrolled": true
   },
   "outputs": [
    {
     "data": {
      "text/plain": [
       "(3657259, 320)"
      ]
     },
     "execution_count": 3,
     "metadata": {},
     "output_type": "execute_result"
    }
   ],
   "source": [
    "train_X.shape"
   ]
  },
  {
   "cell_type": "code",
   "execution_count": 4,
   "metadata": {},
   "outputs": [
    {
     "data": {
      "text/plain": [
       "(1567398, 320)"
      ]
     },
     "execution_count": 4,
     "metadata": {},
     "output_type": "execute_result"
    }
   ],
   "source": [
    "val_X.shape"
   ]
  },
  {
   "cell_type": "code",
   "execution_count": 5,
   "metadata": {},
   "outputs": [
    {
     "data": {
      "application/vnd.jupyter.widget-view+json": {
       "model_id": "610d3ddd772d415fa7ecca8b6beb4ee1",
       "version_major": 2,
       "version_minor": 0
      },
      "text/plain": [
       "HBox(children=(IntProgress(value=0, max=3657259), HTML(value='')))"
      ]
     },
     "metadata": {},
     "output_type": "display_data"
    },
    {
     "name": "stdout",
     "output_type": "stream",
     "text": [
      "\n",
      "CPU times: user 1min 56s, sys: 34.5 s, total: 2min 30s\n",
      "Wall time: 11min 27s\n"
     ]
    }
   ],
   "source": [
    "%%time\n",
    "\n",
    "def save_parallel_train(i):\n",
    "    np.save('./datasets/TrainData/trainX/%d.npy'%i,train_X[i])\n",
    "    np.save('./datasets/TrainData/trainy/%d.npy'%i,train_y[i])\n",
    "    return 0\n",
    "\n",
    "def save_parallel_val(i):\n",
    "    np.save('./datasets/TrainData/valX/%d.npy'%i,val_X[i])\n",
    "    np.save('./datasets/TrainData/valy/%d.npy'%i,val_y[i])\n",
    "    return 0\n",
    "os.makedirs('./datasets/TrainData/trainX/',exist_ok=True)\n",
    "os.makedirs('./datasets/TrainData/valX/',exist_ok=True)\n",
    "os.makedirs('./datasets/TrainData/trainy/',exist_ok=True)\n",
    "os.makedirs('./datasets/TrainData/valy/',exist_ok=True)\n",
    "\n",
    "pool = mp.Pool(mp.cpu_count())\n",
    "\n",
    "tqdm_notebook(pool.imap(save_parallel_train,range(3657259)),total = 3657259)\n",
    "\n",
    "pool.close()\n",
    "pool.join()"
   ]
  },
  {
   "cell_type": "code",
   "execution_count": 6,
   "metadata": {},
   "outputs": [
    {
     "data": {
      "application/vnd.jupyter.widget-view+json": {
       "model_id": "622b73409685498ca81c2cf7ffb1f69c",
       "version_major": 2,
       "version_minor": 0
      },
      "text/plain": [
       "HBox(children=(IntProgress(value=0, max=1567398), HTML(value='')))"
      ]
     },
     "metadata": {},
     "output_type": "display_data"
    },
    {
     "name": "stdout",
     "output_type": "stream",
     "text": [
      "\n"
     ]
    }
   ],
   "source": [
    "%%time\n",
    "pool = mp.Pool(mp.cpu_count())\n",
    "tqdm_notebook(pool.imap(save_parallel_val,range(1567398)),total = 1567398)\n",
    "pool.close()\n",
    "pool.join()"
   ]
  },
  {
   "cell_type": "code",
   "execution_count": null,
   "metadata": {},
   "outputs": [],
   "source": []
  }
 ],
 "metadata": {
  "kernelspec": {
   "display_name": "Python 3",
   "language": "python",
   "name": "python3"
  },
  "language_info": {
   "codemirror_mode": {
    "name": "ipython",
    "version": 3
   },
   "file_extension": ".py",
   "mimetype": "text/x-python",
   "name": "python",
   "nbconvert_exporter": "python",
   "pygments_lexer": "ipython3",
   "version": "3.7.1"
  }
 },
 "nbformat": 4,
 "nbformat_minor": 2
}
