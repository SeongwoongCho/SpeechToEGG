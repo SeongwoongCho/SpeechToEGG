{
 "cells": [
  {
   "cell_type": "markdown",
   "metadata": {},
   "source": [
    "# TrainData/TestData의 무음 구간(db이 낮은구간)을 삭제하고 특정 프레임(현재는 256)씩 잘라서 저장하는 형태. 오버랩이 되도록 저장한다.(Step size를 통해 결정)"
   ]
  },
  {
   "cell_type": "code",
   "execution_count": 1,
   "metadata": {},
   "outputs": [],
   "source": [
    "import os\n",
    "import numpy as np\n",
    "from tqdm import tqdm_notebook\n",
    "from utils import *\n",
    "import librosa\n",
    "import random\n",
    "import multiprocessing as mp\n",
    "import torch.utils.data\n",
    "import pandas as pd\n",
    "from sklearn.model_selection import train_test_split\n",
    "\n",
    "seed_everything(42)\n",
    "\n",
    "def process(t): ## args : drt, file,window,step\n",
    "    drt,file,window,step,n_frame,top_db = t\n",
    "    X,y = [],[]\n",
    "\n",
    "    x,sr = librosa.load(drt+file,sr=16000,mono=False)\n",
    "    itvs = librosa.effects.split(x[0],frame_length = n_frame+1, hop_length = step,top_db = top_db)\n",
    "    \n",
    "    for st_idx,end_idx in itvs:\n",
    "        speech,egg = x[0][st_idx:end_idx],x[1][st_idx:end_idx]\n",
    "        i=0\n",
    "        while(i*step+window < len(speech)):\n",
    "            tmp_speech = speech[i*step:i*step+window]\n",
    "            tmp_egg = egg[i*step:i*step+window]\n",
    "            if check_data(tmp_speech,tmp_egg,0.2,n_frame):\n",
    "                X.append(tmp_speech)\n",
    "                y.append(tmp_egg)\n",
    "            i+=1\n",
    "    return (X,y)\n",
    "   \n",
    "def load_datas(n_frame,window,step,top_db,is_test=False):\n",
    "    X,y = [],[]\n",
    "    pool = mp.Pool(mp.cpu_count())\n",
    "    \n",
    "    print(\"load Train Data\")\n",
    "    args = []\n",
    "    \n",
    "    for drt in ['./datasets/TrainData/Alexis/','./datasets/TrainData/vietnam/','./datasets/TrainData/Childer/',\n",
    "                './datasets/TrainData/CMU/','./datasets/TrainData/saarbrucken/']:\n",
    "        for file in os.listdir(drt):\n",
    "            if 'wav' in file:\n",
    "                args.append((drt,file,window,step,n_frame,top_db))\n",
    "\n",
    "    if is_test:\n",
    "        args = args[:50]\n",
    "    \n",
    "    tmp = list(tqdm_notebook(pool.imap(process,args),total = len(args)))\n",
    "    for _x,_y in tmp:\n",
    "        if len(_x) >0 and len(_y) > 0:\n",
    "            X +=_x\n",
    "            y +=_y\n",
    "    pool.close()\n",
    "    pool.join()\n",
    "    \n",
    "    release_list(tmp)\n",
    "    X = np.array(X)\n",
    "    y = np.array(y)\n",
    "    train_X,val_X, train_y, val_y = train_test_split(X, y, test_size=0.3, random_state=42)\n",
    "    return train_X, train_y, val_X, val_y"
   ]
  },
  {
   "cell_type": "code",
   "execution_count": 2,
   "metadata": {},
   "outputs": [
    {
     "name": "stdout",
     "output_type": "stream",
     "text": [
      "load Train Data\n"
     ]
    },
    {
     "data": {
      "application/vnd.jupyter.widget-view+json": {
       "model_id": "97fcb96dbaea446cb002d0a9ee118343",
       "version_major": 2,
       "version_minor": 0
      },
      "text/plain": [
       "HBox(children=(IntProgress(value=0, max=21004), HTML(value='')))"
      ]
     },
     "metadata": {},
     "output_type": "display_data"
    },
    {
     "name": "stdout",
     "output_type": "stream",
     "text": [
      "\n"
     ]
    }
   ],
   "source": [
    "train_X, train_y, val_X, val_y = load_datas(n_frame = 256,\n",
    "                                            window = int(256*(1.25)),\n",
    "                                            step = int(256//4),\n",
    "                                            top_db = 20,\n",
    "                                            is_test = False)"
   ]
  },
  {
   "cell_type": "code",
   "execution_count": 5,
   "metadata": {},
   "outputs": [],
   "source": [
    "def save_parallel_train(i):\n",
    "    np.save('./datasets/TrainData/trainX/%d.npy'%i,train_X[i])\n",
    "    np.save('./datasets/TrainData/trainy/%d.npy'%i,train_y[i])\n",
    "    return 0\n",
    "\n",
    "def save_parallel_val(i):\n",
    "    np.save('./datasets/TrainData/valX/%d.npy'%i,val_X[i])\n",
    "    np.save('./datasets/TrainData/valy/%d.npy'%i,val_y[i])\n",
    "    return 0"
   ]
  },
  {
   "cell_type": "code",
   "execution_count": 6,
   "metadata": {},
   "outputs": [
    {
     "name": "stdout",
     "output_type": "stream",
     "text": [
      "CPU times: user 2.49 s, sys: 18.9 s, total: 21.4 s\n",
      "Wall time: 26min 16s\n"
     ]
    }
   ],
   "source": [
    "%%time\n",
    "\n",
    "os.makedirs('./datasets/TrainData/trainX/',exist_ok=True)\n",
    "os.makedirs('./datasets/TrainData/valX/',exist_ok=True)\n",
    "os.makedirs('./datasets/TrainData/trainy/',exist_ok=True)\n",
    "os.makedirs('./datasets/TrainData/valy/',exist_ok=True)\n",
    "\n",
    "pool = mp.Pool(mp.cpu_count())\n",
    "pool.map(save_parallel_train,range(train_X.shape[0]))\n",
    "pool.close()\n",
    "pool.join()"
   ]
  },
  {
   "cell_type": "code",
   "execution_count": 7,
   "metadata": {},
   "outputs": [
    {
     "name": "stdout",
     "output_type": "stream",
     "text": [
      "CPU times: user 713 ms, sys: 19.2 s, total: 19.9 s\n",
      "Wall time: 7min 11s\n"
     ]
    }
   ],
   "source": [
    "%%time\n",
    "\n",
    "pool = mp.Pool(mp.cpu_count())\n",
    "pool.map(save_parallel_val,range(val_X.shape))\n",
    "pool.close()\n",
    "pool.join()"
   ]
  }
 ],
 "metadata": {
  "kernelspec": {
   "display_name": "Python 3",
   "language": "python",
   "name": "python3"
  },
  "language_info": {
   "codemirror_mode": {
    "name": "ipython",
    "version": 3
   },
   "file_extension": ".py",
   "mimetype": "text/x-python",
   "name": "python",
   "nbconvert_exporter": "python",
   "pygments_lexer": "ipython3",
   "version": "3.6.7"
  }
 },
 "nbformat": 4,
 "nbformat_minor": 4
}
